{
 "cells": [
  {
   "cell_type": "markdown",
   "metadata": {},
   "source": [
    "# Voice Commanding Alexa to perform Shutdown"
   ]
  },
  {
   "cell_type": "code",
   "execution_count": null,
   "metadata": {},
   "outputs": [],
   "source": [
    "#Importing Necessary Packages\n",
    "import time\n",
    "import os\n",
    "\n",
    "# Text to speech library which also works offline.\n",
    "import pyttsx3\n",
    "\n",
    "# Library for speech recognition, works online and offline.\n",
    "import speech_recognition as sr\n",
    "\n",
    "# Creating an object for speech recognition.\n",
    "src = sr.Recognizer()"
   ]
  },
  {
   "cell_type": "code",
   "execution_count": null,
   "metadata": {},
   "outputs": [],
   "source": [
    "# Function for converting Text-to-Speech for Alexa.\n",
    "def speak(text):\n",
    "    # init function to get an engine instance for the speech synthesis\n",
    "    # SAPI5 - Microsoft Speech API\n",
    "    engine = pyttsx3.init('sapi5')\n",
    "    # Extracting voices from SAPI5\n",
    "    voices = engine.getProperty('voices')\n",
    "    # Configuring Female Voice for Alexa\n",
    "    engine.setProperty('voice', voices[1].id) \n",
    "    # Converting Text to Speech\n",
    "    engine.say(text)\n",
    "    engine.runAndWait()"
   ]
  },
  {
   "cell_type": "code",
   "execution_count": null,
   "metadata": {},
   "outputs": [],
   "source": [
    "# Listening to user to obtain voice command\n",
    "def listen():\n",
    "    # Using the default microphone as the input source.\n",
    "    with sr.Microphone() as source:\n",
    "        print(\"Input => \",end = \"\")\n",
    "        # Threshold for registering an End-of_Phrase.\n",
    "        src.pause_threshold = 0.7 \n",
    "        # Listening to Input Audio.\n",
    "        inp_audio = src.listen(source)\n",
    "        try:\n",
    "            # Recognize the Input Command in English-India and converts it\n",
    "            # to text using Google API\n",
    "            inp_text = src.recognize_google(inp_audio, language = 'en-in')\n",
    "            print(inp_text)\n",
    "            # Lowercases the string and splits the string into list.\n",
    "            inp_text = inp_text.lower().split()\n",
    "        # If an error is encountered.\n",
    "        except Exception as e:\n",
    "            print(e)\n",
    "            print(\"Alexa => Please Repeat Again.\")\n",
    "            speak(\"Please Repeat Again.\")\n",
    "            return \"None\"\n",
    "    return inp_text"
   ]
  },
  {
   "cell_type": "code",
   "execution_count": null,
   "metadata": {},
   "outputs": [],
   "source": [
    "# Shutdown Operation\n",
    "def quit():\n",
    "    # Re-confirmation the command\n",
    "    print(\"Alexa => Are you sure you want to shutdown this system ?\")\n",
    "    speak(\"Are you sure you want to shutdown this system ?\")\n",
    "    command = listen()\n",
    "    # If command is correct.\n",
    "    if command[0] == \"yes\":\n",
    "        print(\"Alexa => Shutiing Down in 3 seconds.\")\n",
    "        speak(\"Shutiing Down in 3 seconds.\")\n",
    "        time.sleep(3)\n",
    "        print(\"Alexa => Shutting Down.\")\n",
    "        speak(\"Shutting Down.\")\n",
    "        os.system(\"shutdown /s /t 1\")\n",
    "    # If command is incorrect.\n",
    "    elif command[0] == \"no\":\n",
    "        print(\"Alexa => OK! Cancelling the Request.\")\n",
    "        speak(\"OK! Cancelling the Request.\")"
   ]
  },
  {
   "cell_type": "code",
   "execution_count": null,
   "metadata": {},
   "outputs": [],
   "source": [
    "# Configuring Alexa-like Voice Command Bot.\n",
    "def Alexa():\n",
    "    \n",
    "    inp_text = listen()\n",
    "    if 'alexa' in inp_text:\n",
    "        alexa_id = inp_text.index('alexa')\n",
    "        # If hey or hi is present just before alexa in voice command.\n",
    "        if inp_text[alexa_id - 1] == 'hey' or inp_text[alexa_id - 1] == 'hi':\n",
    "            print(\"Alexa => Activated\")\n",
    "            speak(\"Activated\")\n",
    "            print(\"Alexa => What can I do for you?\")\n",
    "            speak(\"What can I do for you?\")\n",
    "            shut = listen()\n",
    "            if 'shutdown' in shut:\n",
    "                quit()"
   ]
  },
  {
   "cell_type": "code",
   "execution_count": null,
   "metadata": {},
   "outputs": [],
   "source": [
    "# Calling alexa to shutdown\n",
    "Alexa()"
   ]
  },
  {
   "cell_type": "code",
   "execution_count": null,
   "metadata": {},
   "outputs": [],
   "source": []
  }
 ],
 "metadata": {
  "kernelspec": {
   "display_name": "Python 3",
   "language": "python",
   "name": "python3"
  },
  "language_info": {
   "codemirror_mode": {
    "name": "ipython",
    "version": 3
   },
   "file_extension": ".py",
   "mimetype": "text/x-python",
   "name": "python",
   "nbconvert_exporter": "python",
   "pygments_lexer": "ipython3",
   "version": "3.7.9"
  }
 },
 "nbformat": 4,
 "nbformat_minor": 4
}
